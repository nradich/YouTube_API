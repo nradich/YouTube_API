{
 "cells": [
  {
   "cell_type": "code",
   "execution_count": null,
   "metadata": {},
   "outputs": [],
   "source": [
    "spark.conf.set(\n",
    "    \"fs.azure.account.key.<storage-account>.dfs.core.windows.net\",\n",
    "    dbutils.secrets.get(scope=\"<scope>\", key=\"<storage-account-access-key>\"))\n",
    "\n",
    "#TO Display secret scope\n",
    "dbutils.secrets.listScopes()\n",
    "#To display list of secrets\n",
    "dbutils.secrets.list(scope = '<Scope Name>')\n",
    "#For list of all command\n",
    "dbutils.secrets.help()"
   ]
  }
 ],
 "metadata": {
  "language_info": {
   "name": "python"
  }
 },
 "nbformat": 4,
 "nbformat_minor": 2
}
